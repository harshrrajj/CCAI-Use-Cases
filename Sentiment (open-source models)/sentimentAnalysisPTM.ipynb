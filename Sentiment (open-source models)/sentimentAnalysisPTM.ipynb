{
 "cells": [
  {
   "cell_type": "markdown",
   "id": "d82b8862",
   "metadata": {},
   "source": [
    "# using BERT"
   ]
  },
  {
   "cell_type": "code",
   "execution_count": 15,
   "id": "55f54715",
   "metadata": {},
   "outputs": [],
   "source": [
    "from transformers import AutoTokenizer, AutoModelForSequenceClassification\n",
    "import torch"
   ]
  },
  {
   "cell_type": "code",
   "execution_count": 16,
   "id": "2641b636",
   "metadata": {},
   "outputs": [],
   "source": [
    "tokenizer = AutoTokenizer.from_pretrained('nlptown/bert-base-multilingual-uncased-sentiment')\n",
    "\n",
    "model = AutoModelForSequenceClassification.from_pretrained('nlptown/bert-base-multilingual-uncased-sentiment')"
   ]
  },
  {
   "cell_type": "code",
   "execution_count": 17,
   "id": "4971e70b",
   "metadata": {},
   "outputs": [],
   "source": [
    "# This is a customer conversation\n",
    "textToBeAnalyzed = 'Hi, I tried to set up wifi connection for Smart Brew 300 espresso machine, but it didn’t work. \\\n",
    "Yes, I pushed the wifi connection button, and now the power light is slowly blinking. No. Nothing happened.'"
   ]
  },
  {
   "cell_type": "code",
   "execution_count": 11,
   "id": "a5aac9c6",
   "metadata": {},
   "outputs": [],
   "source": [
    "#Just another conversation that can be tested\n",
    "\"\"\"textToBeAnalyzed = 'Yes, please. Could you please tell me the details of that package? That’s great! As you know, I was \\\n",
    "planning earlier but couldn’t go due to a reason but now as you have an amazing package and I am also free so I am planning \\\n",
    "to go within this week only. This package is valid till when? Great. What are all formalities needed to be done? Sure, no \\\n",
    "problem. How can I make the payment? But for that, I need to visit your office. Is it possible that I can pay online and \\\n",
    "WhatsApp you my details? Just send me your account details and your WhatsApp number.'\"\"\""
   ]
  },
  {
   "cell_type": "code",
   "execution_count": 24,
   "id": "40e20f85",
   "metadata": {},
   "outputs": [],
   "source": [
    "\"\"\"textToBeAnalyzed = 'Good morning. I’d like to book a flight to Toronto, please. Yes. On Thursday, please. I’ve heard that \\\n",
    "Air Canada is good, but expensive. Is there a big difference in prices between the airlines? I’ll be flying business class. \\\n",
    "Wow, that’s quite a difference in prices. I’m returning on from Wednesday 22nd. So could you check the return prices for me? \\\n",
    "Okay, before I make a decision, I would like to know the departure and arrival times, in both directions. \\\n",
    "Oh! That doesn’t sound very convenient. Flying by Pacific, I mean. How about the returned flights? No, it isn’t. No, it isn’t. \\\n",
    "Are the stopovers the same as on the outward journey? Well, I have a business appointment on Wednesday the 22nd, in the \\\n",
    "morning. So, unfortunately I can’t take the Qantas flight. The Pacific flight times are too inconvenient. \\\n",
    "So I’ll take the Air Canada flight even though it’s more expensive. Yes, I do. Here, you are. Yes. I have a company credit \\\n",
    "card. Here, you are. Oh, my name is Reece with a C not with an S. And my given names are hyphenated. Mary hyphen an with an \\\n",
    "e. Oh, you’ve got that. Sorry. Yes, could you give me an official invoice, please? I need it for my company. Yes. Thank you.'\"\"\""
   ]
  },
  {
   "cell_type": "code",
   "execution_count": 18,
   "id": "7ebd7e2a",
   "metadata": {},
   "outputs": [],
   "source": [
    "def sentimentAnalyzer(textToBeAnalzed):\n",
    "    tokens = tokenizer.encode(textToBeAnalyzed, return_tensors='pt')\n",
    "    result = model(tokens)\n",
    "    return result"
   ]
  },
  {
   "cell_type": "code",
   "execution_count": 19,
   "id": "3801df4f",
   "metadata": {},
   "outputs": [
    {
     "name": "stdout",
     "output_type": "stream",
     "text": [
      "tensor([[ 2.9139,  2.2128,  0.7697, -1.9111, -3.1386]],\n",
      "       grad_fn=<AddmmBackward0>)\n"
     ]
    }
   ],
   "source": [
    "sentimentResult = sentimentAnalyzer(textToBeAnalyzed)\n",
    "print(sentimentResult.logits)  # chances for the different positions\n",
    "\n",
    "'''Position    Sentiment\n",
    "   1           Very negative\n",
    "   2           Negative\n",
    "   3           Neutral\n",
    "   4           Positive\n",
    "   5           Very Positive'''"
   ]
  },
  {
   "cell_type": "code",
   "execution_count": 20,
   "id": "6c42f90a",
   "metadata": {},
   "outputs": [
    {
     "name": "stdout",
     "output_type": "stream",
     "text": [
      "1\n"
     ]
    }
   ],
   "source": [
    "print(int(torch.argmax(sentimentResult.logits))+1)\n",
    "\"\"\"It can be seen that the customer was very unhappy/unsatisfied showing a very negative sentiment. The same has been shown\n",
    "   by the model as well suggesting that it's accurate. Please go ahead and check other text samples for yourself.\"\"\"\n",
    "\n",
    "\"\"\"Additionally, you can use a loop to run the model on each sentence in a conversation or document to assess the emotion \n",
    "   of every statement.\"\"\""
   ]
  },
  {
   "cell_type": "markdown",
   "id": "efa5354d",
   "metadata": {},
   "source": [
    "# using VADER "
   ]
  },
  {
   "cell_type": "code",
   "execution_count": 8,
   "id": "11faa272",
   "metadata": {},
   "outputs": [],
   "source": [
    "from vaderSentiment.vaderSentiment import SentimentIntensityAnalyzer"
   ]
  },
  {
   "cell_type": "code",
   "execution_count": 9,
   "id": "da9e2e0d",
   "metadata": {},
   "outputs": [],
   "source": [
    "def sentimentAnalyzer2(textToBeAnalyzed):\n",
    "    \n",
    "    vaderObject = SentimentIntensityAnalyzer()\n",
    "    \n",
    "    sentimentDictionary = vaderObject.polarity_scores(textToBeAnalyzed)   #Polarity ranges in [0, 1]. Sum of all the scores should be equal to 1.\n",
    "    negativeScore = sentimentDictionary['neg']\n",
    "    positiveScore = sentimentDictionary['pos']\n",
    "    neutralScore = sentimentDictionary['neu']\n",
    "    totalScore = sentimentDictionary['compound']\n",
    "\n",
    "    if totalScore>=0.05:\n",
    "        totalSentiment = \"Positive\"\n",
    "    elif totalScore<=-0.05:\n",
    "        totalSentiment = \"Negative\"\n",
    "    else:\n",
    "        totalSentiment = \"Neutral\"\n",
    "\n",
    "    return negativeScore, neutralScore, positiveScore, totalScore, totalSentiment"
   ]
  },
  {
   "cell_type": "code",
   "execution_count": 10,
   "id": "b4efb394",
   "metadata": {},
   "outputs": [
    {
     "data": {
      "text/plain": [
       "(0.0, 0.863, 0.137, 0.6597, 'Positive')"
      ]
     },
     "execution_count": 10,
     "metadata": {},
     "output_type": "execute_result"
    }
   ],
   "source": [
    "sentimentAnalyzer2(textToBeAnalyzed)"
   ]
  },
  {
   "cell_type": "code",
   "execution_count": 11,
   "id": "cc83f6aa",
   "metadata": {},
   "outputs": [],
   "source": [
    "# The inaccuracy might be due to the fact that VADER as a pre-trained model is specifically attuned to sentiments expressed\n",
    "# in social media. Also, it was built on a dataset that contains social-media conversations (from Facebook, Twitter)."
   ]
  },
  {
   "cell_type": "markdown",
   "id": "871e8cb5",
   "metadata": {},
   "source": [
    "# using TextBlob"
   ]
  },
  {
   "cell_type": "code",
   "execution_count": 12,
   "id": "f311aa0d",
   "metadata": {},
   "outputs": [
    {
     "name": "stdout",
     "output_type": "stream",
     "text": [
      "Requirement already satisfied: textblob in c:\\users\\harsh raj\\anaconda3\\lib\\site-packages (0.17.1)\n",
      "Requirement already satisfied: nltk>=3.1 in c:\\users\\harsh raj\\anaconda3\\lib\\site-packages (from textblob) (3.5)\n",
      "Requirement already satisfied: click in c:\\users\\harsh raj\\anaconda3\\lib\\site-packages (from nltk>=3.1->textblob) (7.1.2)\n",
      "Requirement already satisfied: joblib in c:\\users\\harsh raj\\anaconda3\\lib\\site-packages (from nltk>=3.1->textblob) (1.0.1)\n",
      "Requirement already satisfied: tqdm in c:\\users\\harsh raj\\anaconda3\\lib\\site-packages (from nltk>=3.1->textblob) (4.59.0)\n",
      "Requirement already satisfied: regex in c:\\users\\harsh raj\\anaconda3\\lib\\site-packages (from nltk>=3.1->textblob) (2021.4.4)\n"
     ]
    }
   ],
   "source": [
    "!pip install textblob"
   ]
  },
  {
   "cell_type": "code",
   "execution_count": 13,
   "id": "79c085e9",
   "metadata": {},
   "outputs": [],
   "source": [
    "from textblob import TextBlob\n",
    "\n",
    "def sentiment_textblob(textToBeAnalyzed):\n",
    "  \n",
    "    sentimentClassifier = TextBlob(textToBeAnalyzed)\n",
    "    polarity = sentimentClassifier.sentiment.polarity  #The polarity score is a float within the range [-1.0, 1.0]\n",
    "    subjectivity = sentimentClassifier.sentiment.subjectivity\n",
    "    \n",
    "    return polarity,subjectivity"
   ]
  },
  {
   "cell_type": "code",
   "execution_count": 14,
   "id": "0cf2c706",
   "metadata": {},
   "outputs": [
    {
     "name": "stdout",
     "output_type": "stream",
     "text": [
      "Sentiment Polarity Score:  0.10476190476190476\n"
     ]
    }
   ],
   "source": [
    "print(\"Sentiment Polarity Score: \", sentiment_textblob(textToBeAnalyzed)[0])"
   ]
  },
  {
   "cell_type": "code",
   "execution_count": 15,
   "id": "ee3ab9e2",
   "metadata": {},
   "outputs": [],
   "source": [
    "#INACCURATE, as it shows the score to the positive side."
   ]
  },
  {
   "cell_type": "code",
   "execution_count": 28,
   "id": "d359da78",
   "metadata": {},
   "outputs": [],
   "source": [
    "#There are tons of such models, which have been outperformed by the BERT model (for eg., Flair, )"
   ]
  }
 ],
 "metadata": {
  "kernelspec": {
   "display_name": "Python 3",
   "language": "python",
   "name": "python3"
  },
  "language_info": {
   "codemirror_mode": {
    "name": "ipython",
    "version": 3
   },
   "file_extension": ".py",
   "mimetype": "text/x-python",
   "name": "python",
   "nbconvert_exporter": "python",
   "pygments_lexer": "ipython3",
   "version": "3.8.8"
  }
 },
 "nbformat": 4,
 "nbformat_minor": 5
}
